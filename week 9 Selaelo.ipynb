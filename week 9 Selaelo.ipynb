{
 "cells": [
  {
   "cell_type": "code",
   "execution_count": 1,
   "id": "0aaae5a1",
   "metadata": {},
   "outputs": [],
   "source": [
    "# Import libraries\n",
    "import pandas as pd\n",
    "from pandas.api.types import is_numeric_dtype\n",
    "import numpy as np\n",
    "import seaborn as sns\n",
    "import matplotlib.pyplot as plt\n",
    "from matplotlib.colors import ListedColormap\n",
    "import math"
   ]
  },
  {
   "cell_type": "code",
   "execution_count": 2,
   "id": "b150240b",
   "metadata": {},
   "outputs": [
    {
     "name": "stdout",
     "output_type": "stream",
     "text": [
      "<class 'pandas.core.frame.DataFrame'>\n",
      "RangeIndex: 4521 entries, 0 to 4520\n",
      "Data columns (total 17 columns):\n",
      " #   Column     Non-Null Count  Dtype \n",
      "---  ------     --------------  ----- \n",
      " 0   age        4521 non-null   int64 \n",
      " 1   job        4521 non-null   object\n",
      " 2   marital    4521 non-null   object\n",
      " 3   education  4521 non-null   object\n",
      " 4   default    4521 non-null   object\n",
      " 5   balance    4521 non-null   int64 \n",
      " 6   housing    4521 non-null   object\n",
      " 7   loan       4521 non-null   object\n",
      " 8   contact    4521 non-null   object\n",
      " 9   day        4521 non-null   int64 \n",
      " 10  month      4521 non-null   object\n",
      " 11  duration   4521 non-null   int64 \n",
      " 12  campaign   4521 non-null   int64 \n",
      " 13  pdays      4521 non-null   int64 \n",
      " 14  previous   4521 non-null   int64 \n",
      " 15  poutcome   4521 non-null   object\n",
      " 16  y          4521 non-null   object\n",
      "dtypes: int64(7), object(10)\n",
      "memory usage: 600.6+ KB\n"
     ]
    },
    {
     "data": {
      "text/html": [
       "<div>\n",
       "<style scoped>\n",
       "    .dataframe tbody tr th:only-of-type {\n",
       "        vertical-align: middle;\n",
       "    }\n",
       "\n",
       "    .dataframe tbody tr th {\n",
       "        vertical-align: top;\n",
       "    }\n",
       "\n",
       "    .dataframe thead th {\n",
       "        text-align: right;\n",
       "    }\n",
       "</style>\n",
       "<table border=\"1\" class=\"dataframe\">\n",
       "  <thead>\n",
       "    <tr style=\"text-align: right;\">\n",
       "      <th></th>\n",
       "      <th>age</th>\n",
       "      <th>balance</th>\n",
       "      <th>day</th>\n",
       "      <th>duration</th>\n",
       "      <th>campaign</th>\n",
       "      <th>pdays</th>\n",
       "      <th>previous</th>\n",
       "    </tr>\n",
       "  </thead>\n",
       "  <tbody>\n",
       "    <tr>\n",
       "      <th>count</th>\n",
       "      <td>4521.000000</td>\n",
       "      <td>4521.000000</td>\n",
       "      <td>4521.000000</td>\n",
       "      <td>4521.000000</td>\n",
       "      <td>4521.000000</td>\n",
       "      <td>4521.000000</td>\n",
       "      <td>4521.000000</td>\n",
       "    </tr>\n",
       "    <tr>\n",
       "      <th>mean</th>\n",
       "      <td>41.170095</td>\n",
       "      <td>1422.657819</td>\n",
       "      <td>15.915284</td>\n",
       "      <td>263.961292</td>\n",
       "      <td>2.793630</td>\n",
       "      <td>39.766645</td>\n",
       "      <td>0.542579</td>\n",
       "    </tr>\n",
       "    <tr>\n",
       "      <th>std</th>\n",
       "      <td>10.576211</td>\n",
       "      <td>3009.638142</td>\n",
       "      <td>8.247667</td>\n",
       "      <td>259.856633</td>\n",
       "      <td>3.109807</td>\n",
       "      <td>100.121124</td>\n",
       "      <td>1.693562</td>\n",
       "    </tr>\n",
       "    <tr>\n",
       "      <th>min</th>\n",
       "      <td>19.000000</td>\n",
       "      <td>-3313.000000</td>\n",
       "      <td>1.000000</td>\n",
       "      <td>4.000000</td>\n",
       "      <td>1.000000</td>\n",
       "      <td>-1.000000</td>\n",
       "      <td>0.000000</td>\n",
       "    </tr>\n",
       "    <tr>\n",
       "      <th>25%</th>\n",
       "      <td>33.000000</td>\n",
       "      <td>69.000000</td>\n",
       "      <td>9.000000</td>\n",
       "      <td>104.000000</td>\n",
       "      <td>1.000000</td>\n",
       "      <td>-1.000000</td>\n",
       "      <td>0.000000</td>\n",
       "    </tr>\n",
       "    <tr>\n",
       "      <th>50%</th>\n",
       "      <td>39.000000</td>\n",
       "      <td>444.000000</td>\n",
       "      <td>16.000000</td>\n",
       "      <td>185.000000</td>\n",
       "      <td>2.000000</td>\n",
       "      <td>-1.000000</td>\n",
       "      <td>0.000000</td>\n",
       "    </tr>\n",
       "    <tr>\n",
       "      <th>75%</th>\n",
       "      <td>49.000000</td>\n",
       "      <td>1480.000000</td>\n",
       "      <td>21.000000</td>\n",
       "      <td>329.000000</td>\n",
       "      <td>3.000000</td>\n",
       "      <td>-1.000000</td>\n",
       "      <td>0.000000</td>\n",
       "    </tr>\n",
       "    <tr>\n",
       "      <th>max</th>\n",
       "      <td>87.000000</td>\n",
       "      <td>71188.000000</td>\n",
       "      <td>31.000000</td>\n",
       "      <td>3025.000000</td>\n",
       "      <td>50.000000</td>\n",
       "      <td>871.000000</td>\n",
       "      <td>25.000000</td>\n",
       "    </tr>\n",
       "  </tbody>\n",
       "</table>\n",
       "</div>"
      ],
      "text/plain": [
       "               age       balance          day     duration     campaign  \\\n",
       "count  4521.000000   4521.000000  4521.000000  4521.000000  4521.000000   \n",
       "mean     41.170095   1422.657819    15.915284   263.961292     2.793630   \n",
       "std      10.576211   3009.638142     8.247667   259.856633     3.109807   \n",
       "min      19.000000  -3313.000000     1.000000     4.000000     1.000000   \n",
       "25%      33.000000     69.000000     9.000000   104.000000     1.000000   \n",
       "50%      39.000000    444.000000    16.000000   185.000000     2.000000   \n",
       "75%      49.000000   1480.000000    21.000000   329.000000     3.000000   \n",
       "max      87.000000  71188.000000    31.000000  3025.000000    50.000000   \n",
       "\n",
       "             pdays     previous  \n",
       "count  4521.000000  4521.000000  \n",
       "mean     39.766645     0.542579  \n",
       "std     100.121124     1.693562  \n",
       "min      -1.000000     0.000000  \n",
       "25%      -1.000000     0.000000  \n",
       "50%      -1.000000     0.000000  \n",
       "75%      -1.000000     0.000000  \n",
       "max     871.000000    25.000000  "
      ]
     },
     "execution_count": 2,
     "metadata": {},
     "output_type": "execute_result"
    }
   ],
   "source": [
    "# Load libraries\n",
    "Bank_data = pd.read_csv(\"C:/Users/Khanyi/Downloads/bank.csv\", delimiter=\";\")\n",
    "Bank_data.info()\n",
    "Bank_data.describe()"
   ]
  },
  {
   "cell_type": "code",
   "execution_count": 3,
   "id": "7e142237",
   "metadata": {},
   "outputs": [
    {
     "data": {
      "text/html": [
       "<div>\n",
       "<style scoped>\n",
       "    .dataframe tbody tr th:only-of-type {\n",
       "        vertical-align: middle;\n",
       "    }\n",
       "\n",
       "    .dataframe tbody tr th {\n",
       "        vertical-align: top;\n",
       "    }\n",
       "\n",
       "    .dataframe thead th {\n",
       "        text-align: right;\n",
       "    }\n",
       "</style>\n",
       "<table border=\"1\" class=\"dataframe\">\n",
       "  <thead>\n",
       "    <tr style=\"text-align: right;\">\n",
       "      <th></th>\n",
       "      <th>age</th>\n",
       "      <th>job</th>\n",
       "      <th>marital</th>\n",
       "      <th>education</th>\n",
       "      <th>default</th>\n",
       "      <th>balance</th>\n",
       "      <th>housing</th>\n",
       "      <th>loan</th>\n",
       "      <th>contact</th>\n",
       "      <th>day</th>\n",
       "      <th>month</th>\n",
       "      <th>duration</th>\n",
       "      <th>campaign</th>\n",
       "      <th>pdays</th>\n",
       "      <th>previous</th>\n",
       "      <th>poutcome</th>\n",
       "      <th>y</th>\n",
       "    </tr>\n",
       "  </thead>\n",
       "  <tbody>\n",
       "    <tr>\n",
       "      <th>0</th>\n",
       "      <td>30</td>\n",
       "      <td>unemployed</td>\n",
       "      <td>married</td>\n",
       "      <td>primary</td>\n",
       "      <td>no</td>\n",
       "      <td>1787</td>\n",
       "      <td>no</td>\n",
       "      <td>no</td>\n",
       "      <td>cellular</td>\n",
       "      <td>19</td>\n",
       "      <td>oct</td>\n",
       "      <td>79</td>\n",
       "      <td>1</td>\n",
       "      <td>-1</td>\n",
       "      <td>0</td>\n",
       "      <td>unknown</td>\n",
       "      <td>no</td>\n",
       "    </tr>\n",
       "    <tr>\n",
       "      <th>1</th>\n",
       "      <td>33</td>\n",
       "      <td>services</td>\n",
       "      <td>married</td>\n",
       "      <td>secondary</td>\n",
       "      <td>no</td>\n",
       "      <td>4789</td>\n",
       "      <td>yes</td>\n",
       "      <td>yes</td>\n",
       "      <td>cellular</td>\n",
       "      <td>11</td>\n",
       "      <td>may</td>\n",
       "      <td>220</td>\n",
       "      <td>1</td>\n",
       "      <td>339</td>\n",
       "      <td>4</td>\n",
       "      <td>failure</td>\n",
       "      <td>no</td>\n",
       "    </tr>\n",
       "    <tr>\n",
       "      <th>2</th>\n",
       "      <td>35</td>\n",
       "      <td>management</td>\n",
       "      <td>single</td>\n",
       "      <td>tertiary</td>\n",
       "      <td>no</td>\n",
       "      <td>1350</td>\n",
       "      <td>yes</td>\n",
       "      <td>no</td>\n",
       "      <td>cellular</td>\n",
       "      <td>16</td>\n",
       "      <td>apr</td>\n",
       "      <td>185</td>\n",
       "      <td>1</td>\n",
       "      <td>330</td>\n",
       "      <td>1</td>\n",
       "      <td>failure</td>\n",
       "      <td>no</td>\n",
       "    </tr>\n",
       "    <tr>\n",
       "      <th>3</th>\n",
       "      <td>30</td>\n",
       "      <td>management</td>\n",
       "      <td>married</td>\n",
       "      <td>tertiary</td>\n",
       "      <td>no</td>\n",
       "      <td>1476</td>\n",
       "      <td>yes</td>\n",
       "      <td>yes</td>\n",
       "      <td>unknown</td>\n",
       "      <td>3</td>\n",
       "      <td>jun</td>\n",
       "      <td>199</td>\n",
       "      <td>4</td>\n",
       "      <td>-1</td>\n",
       "      <td>0</td>\n",
       "      <td>unknown</td>\n",
       "      <td>no</td>\n",
       "    </tr>\n",
       "    <tr>\n",
       "      <th>4</th>\n",
       "      <td>59</td>\n",
       "      <td>blue-collar</td>\n",
       "      <td>married</td>\n",
       "      <td>secondary</td>\n",
       "      <td>no</td>\n",
       "      <td>0</td>\n",
       "      <td>yes</td>\n",
       "      <td>no</td>\n",
       "      <td>unknown</td>\n",
       "      <td>5</td>\n",
       "      <td>may</td>\n",
       "      <td>226</td>\n",
       "      <td>1</td>\n",
       "      <td>-1</td>\n",
       "      <td>0</td>\n",
       "      <td>unknown</td>\n",
       "      <td>no</td>\n",
       "    </tr>\n",
       "  </tbody>\n",
       "</table>\n",
       "</div>"
      ],
      "text/plain": [
       "   age          job  marital  education default  balance housing loan  \\\n",
       "0   30   unemployed  married    primary      no     1787      no   no   \n",
       "1   33     services  married  secondary      no     4789     yes  yes   \n",
       "2   35   management   single   tertiary      no     1350     yes   no   \n",
       "3   30   management  married   tertiary      no     1476     yes  yes   \n",
       "4   59  blue-collar  married  secondary      no        0     yes   no   \n",
       "\n",
       "    contact  day month  duration  campaign  pdays  previous poutcome   y  \n",
       "0  cellular   19   oct        79         1     -1         0  unknown  no  \n",
       "1  cellular   11   may       220         1    339         4  failure  no  \n",
       "2  cellular   16   apr       185         1    330         1  failure  no  \n",
       "3   unknown    3   jun       199         4     -1         0  unknown  no  \n",
       "4   unknown    5   may       226         1     -1         0  unknown  no  "
      ]
     },
     "execution_count": 3,
     "metadata": {},
     "output_type": "execute_result"
    }
   ],
   "source": [
    "Bank_data.head()"
   ]
  },
  {
   "cell_type": "code",
   "execution_count": 4,
   "id": "65098188",
   "metadata": {},
   "outputs": [
    {
     "data": {
      "text/html": [
       "<div>\n",
       "<style scoped>\n",
       "    .dataframe tbody tr th:only-of-type {\n",
       "        vertical-align: middle;\n",
       "    }\n",
       "\n",
       "    .dataframe tbody tr th {\n",
       "        vertical-align: top;\n",
       "    }\n",
       "\n",
       "    .dataframe thead th {\n",
       "        text-align: right;\n",
       "    }\n",
       "</style>\n",
       "<table border=\"1\" class=\"dataframe\">\n",
       "  <thead>\n",
       "    <tr style=\"text-align: right;\">\n",
       "      <th></th>\n",
       "      <th>age</th>\n",
       "      <th>job</th>\n",
       "      <th>marital</th>\n",
       "      <th>education</th>\n",
       "      <th>default</th>\n",
       "      <th>balance</th>\n",
       "      <th>housing</th>\n",
       "      <th>loan</th>\n",
       "      <th>contact</th>\n",
       "      <th>day</th>\n",
       "      <th>month</th>\n",
       "      <th>duration</th>\n",
       "      <th>campaign</th>\n",
       "      <th>pdays</th>\n",
       "      <th>previous</th>\n",
       "      <th>poutcome</th>\n",
       "      <th>y</th>\n",
       "    </tr>\n",
       "  </thead>\n",
       "  <tbody>\n",
       "    <tr>\n",
       "      <th>4516</th>\n",
       "      <td>33</td>\n",
       "      <td>services</td>\n",
       "      <td>married</td>\n",
       "      <td>secondary</td>\n",
       "      <td>no</td>\n",
       "      <td>-333</td>\n",
       "      <td>yes</td>\n",
       "      <td>no</td>\n",
       "      <td>cellular</td>\n",
       "      <td>30</td>\n",
       "      <td>jul</td>\n",
       "      <td>329</td>\n",
       "      <td>5</td>\n",
       "      <td>-1</td>\n",
       "      <td>0</td>\n",
       "      <td>unknown</td>\n",
       "      <td>no</td>\n",
       "    </tr>\n",
       "    <tr>\n",
       "      <th>4517</th>\n",
       "      <td>57</td>\n",
       "      <td>self-employed</td>\n",
       "      <td>married</td>\n",
       "      <td>tertiary</td>\n",
       "      <td>yes</td>\n",
       "      <td>-3313</td>\n",
       "      <td>yes</td>\n",
       "      <td>yes</td>\n",
       "      <td>unknown</td>\n",
       "      <td>9</td>\n",
       "      <td>may</td>\n",
       "      <td>153</td>\n",
       "      <td>1</td>\n",
       "      <td>-1</td>\n",
       "      <td>0</td>\n",
       "      <td>unknown</td>\n",
       "      <td>no</td>\n",
       "    </tr>\n",
       "    <tr>\n",
       "      <th>4518</th>\n",
       "      <td>57</td>\n",
       "      <td>technician</td>\n",
       "      <td>married</td>\n",
       "      <td>secondary</td>\n",
       "      <td>no</td>\n",
       "      <td>295</td>\n",
       "      <td>no</td>\n",
       "      <td>no</td>\n",
       "      <td>cellular</td>\n",
       "      <td>19</td>\n",
       "      <td>aug</td>\n",
       "      <td>151</td>\n",
       "      <td>11</td>\n",
       "      <td>-1</td>\n",
       "      <td>0</td>\n",
       "      <td>unknown</td>\n",
       "      <td>no</td>\n",
       "    </tr>\n",
       "    <tr>\n",
       "      <th>4519</th>\n",
       "      <td>28</td>\n",
       "      <td>blue-collar</td>\n",
       "      <td>married</td>\n",
       "      <td>secondary</td>\n",
       "      <td>no</td>\n",
       "      <td>1137</td>\n",
       "      <td>no</td>\n",
       "      <td>no</td>\n",
       "      <td>cellular</td>\n",
       "      <td>6</td>\n",
       "      <td>feb</td>\n",
       "      <td>129</td>\n",
       "      <td>4</td>\n",
       "      <td>211</td>\n",
       "      <td>3</td>\n",
       "      <td>other</td>\n",
       "      <td>no</td>\n",
       "    </tr>\n",
       "    <tr>\n",
       "      <th>4520</th>\n",
       "      <td>44</td>\n",
       "      <td>entrepreneur</td>\n",
       "      <td>single</td>\n",
       "      <td>tertiary</td>\n",
       "      <td>no</td>\n",
       "      <td>1136</td>\n",
       "      <td>yes</td>\n",
       "      <td>yes</td>\n",
       "      <td>cellular</td>\n",
       "      <td>3</td>\n",
       "      <td>apr</td>\n",
       "      <td>345</td>\n",
       "      <td>2</td>\n",
       "      <td>249</td>\n",
       "      <td>7</td>\n",
       "      <td>other</td>\n",
       "      <td>no</td>\n",
       "    </tr>\n",
       "  </tbody>\n",
       "</table>\n",
       "</div>"
      ],
      "text/plain": [
       "      age            job  marital  education default  balance housing loan  \\\n",
       "4516   33       services  married  secondary      no     -333     yes   no   \n",
       "4517   57  self-employed  married   tertiary     yes    -3313     yes  yes   \n",
       "4518   57     technician  married  secondary      no      295      no   no   \n",
       "4519   28    blue-collar  married  secondary      no     1137      no   no   \n",
       "4520   44   entrepreneur   single   tertiary      no     1136     yes  yes   \n",
       "\n",
       "       contact  day month  duration  campaign  pdays  previous poutcome   y  \n",
       "4516  cellular   30   jul       329         5     -1         0  unknown  no  \n",
       "4517   unknown    9   may       153         1     -1         0  unknown  no  \n",
       "4518  cellular   19   aug       151        11     -1         0  unknown  no  \n",
       "4519  cellular    6   feb       129         4    211         3    other  no  \n",
       "4520  cellular    3   apr       345         2    249         7    other  no  "
      ]
     },
     "execution_count": 4,
     "metadata": {},
     "output_type": "execute_result"
    }
   ],
   "source": [
    "Bank_data.tail()"
   ]
  },
  {
   "cell_type": "code",
   "execution_count": 5,
   "id": "b1d4a3fe",
   "metadata": {},
   "outputs": [
    {
     "name": "stdout",
     "output_type": "stream",
     "text": [
      "age          0\n",
      "job          0\n",
      "marital      0\n",
      "education    0\n",
      "default      0\n",
      "balance      0\n",
      "housing      0\n",
      "loan         0\n",
      "contact      0\n",
      "day          0\n",
      "month        0\n",
      "duration     0\n",
      "campaign     0\n",
      "pdays        0\n",
      "previous     0\n",
      "poutcome     0\n",
      "y            0\n",
      "dtype: int64\n",
      "False\n"
     ]
    }
   ],
   "source": [
    "# Check for missing values and duplicates\n",
    "print(Bank_data.isnull().sum())\n",
    "print(Bank_data.duplicated().any())"
   ]
  },
  {
   "cell_type": "code",
   "execution_count": 6,
   "id": "e0736648",
   "metadata": {},
   "outputs": [
    {
     "data": {
      "text/plain": [
       "age            67\n",
       "job            12\n",
       "marital         3\n",
       "education       4\n",
       "default         2\n",
       "balance      2353\n",
       "housing         2\n",
       "loan            2\n",
       "contact         3\n",
       "day            31\n",
       "month          12\n",
       "duration      875\n",
       "campaign       32\n",
       "pdays         292\n",
       "previous       24\n",
       "poutcome        4\n",
       "y               2\n",
       "dtype: int64"
      ]
     },
     "execution_count": 6,
     "metadata": {},
     "output_type": "execute_result"
    }
   ],
   "source": [
    "# Check for unique values\n",
    "Bank_data.nunique()"
   ]
  },
  {
   "cell_type": "code",
   "execution_count": 7,
   "id": "54c5343e",
   "metadata": {},
   "outputs": [],
   "source": [
    "# Mapping yes and no values to binary values\n",
    "Bank_data['default'] = Bank_data['default'].map({'yes': 1, 'no': 0})\n",
    "Bank_data['housing'] = Bank_data['housing'].map({'yes': 1, 'no':0})\n",
    "Bank_data['loan'] = Bank_data['loan'].map({'yes': 1, 'no': 0})\n",
    "Bank_data['y'] = Bank_data['y'].map({'yes': 1, 'no':0})"
   ]
  },
  {
   "cell_type": "code",
   "execution_count": 8,
   "id": "e1f8c8f0",
   "metadata": {},
   "outputs": [
    {
     "data": {
      "text/html": [
       "<div>\n",
       "<style scoped>\n",
       "    .dataframe tbody tr th:only-of-type {\n",
       "        vertical-align: middle;\n",
       "    }\n",
       "\n",
       "    .dataframe tbody tr th {\n",
       "        vertical-align: top;\n",
       "    }\n",
       "\n",
       "    .dataframe thead th {\n",
       "        text-align: right;\n",
       "    }\n",
       "</style>\n",
       "<table border=\"1\" class=\"dataframe\">\n",
       "  <thead>\n",
       "    <tr style=\"text-align: right;\">\n",
       "      <th></th>\n",
       "      <th>age</th>\n",
       "      <th>job</th>\n",
       "      <th>marital</th>\n",
       "      <th>education</th>\n",
       "      <th>default</th>\n",
       "      <th>balance</th>\n",
       "      <th>housing</th>\n",
       "      <th>loan</th>\n",
       "      <th>contact</th>\n",
       "      <th>day</th>\n",
       "      <th>month</th>\n",
       "      <th>duration</th>\n",
       "      <th>campaign</th>\n",
       "      <th>pdays</th>\n",
       "      <th>previous</th>\n",
       "      <th>poutcome</th>\n",
       "      <th>y</th>\n",
       "    </tr>\n",
       "  </thead>\n",
       "  <tbody>\n",
       "    <tr>\n",
       "      <th>3296</th>\n",
       "      <td>58</td>\n",
       "      <td>blue-collar</td>\n",
       "      <td>married</td>\n",
       "      <td>secondary</td>\n",
       "      <td>0</td>\n",
       "      <td>590</td>\n",
       "      <td>0</td>\n",
       "      <td>1</td>\n",
       "      <td>unknown</td>\n",
       "      <td>5</td>\n",
       "      <td>jun</td>\n",
       "      <td>133</td>\n",
       "      <td>1</td>\n",
       "      <td>-1</td>\n",
       "      <td>0</td>\n",
       "      <td>unknown</td>\n",
       "      <td>0</td>\n",
       "    </tr>\n",
       "    <tr>\n",
       "      <th>3751</th>\n",
       "      <td>39</td>\n",
       "      <td>technician</td>\n",
       "      <td>married</td>\n",
       "      <td>secondary</td>\n",
       "      <td>0</td>\n",
       "      <td>116</td>\n",
       "      <td>0</td>\n",
       "      <td>0</td>\n",
       "      <td>cellular</td>\n",
       "      <td>24</td>\n",
       "      <td>aug</td>\n",
       "      <td>79</td>\n",
       "      <td>2</td>\n",
       "      <td>94</td>\n",
       "      <td>2</td>\n",
       "      <td>success</td>\n",
       "      <td>0</td>\n",
       "    </tr>\n",
       "    <tr>\n",
       "      <th>220</th>\n",
       "      <td>53</td>\n",
       "      <td>retired</td>\n",
       "      <td>married</td>\n",
       "      <td>tertiary</td>\n",
       "      <td>0</td>\n",
       "      <td>-22</td>\n",
       "      <td>1</td>\n",
       "      <td>0</td>\n",
       "      <td>cellular</td>\n",
       "      <td>31</td>\n",
       "      <td>jul</td>\n",
       "      <td>20</td>\n",
       "      <td>3</td>\n",
       "      <td>-1</td>\n",
       "      <td>0</td>\n",
       "      <td>unknown</td>\n",
       "      <td>0</td>\n",
       "    </tr>\n",
       "    <tr>\n",
       "      <th>3675</th>\n",
       "      <td>33</td>\n",
       "      <td>management</td>\n",
       "      <td>single</td>\n",
       "      <td>tertiary</td>\n",
       "      <td>0</td>\n",
       "      <td>349</td>\n",
       "      <td>0</td>\n",
       "      <td>0</td>\n",
       "      <td>cellular</td>\n",
       "      <td>22</td>\n",
       "      <td>aug</td>\n",
       "      <td>182</td>\n",
       "      <td>1</td>\n",
       "      <td>-1</td>\n",
       "      <td>0</td>\n",
       "      <td>unknown</td>\n",
       "      <td>0</td>\n",
       "    </tr>\n",
       "    <tr>\n",
       "      <th>581</th>\n",
       "      <td>28</td>\n",
       "      <td>technician</td>\n",
       "      <td>single</td>\n",
       "      <td>secondary</td>\n",
       "      <td>0</td>\n",
       "      <td>227</td>\n",
       "      <td>0</td>\n",
       "      <td>0</td>\n",
       "      <td>cellular</td>\n",
       "      <td>30</td>\n",
       "      <td>apr</td>\n",
       "      <td>278</td>\n",
       "      <td>1</td>\n",
       "      <td>-1</td>\n",
       "      <td>0</td>\n",
       "      <td>unknown</td>\n",
       "      <td>1</td>\n",
       "    </tr>\n",
       "  </tbody>\n",
       "</table>\n",
       "</div>"
      ],
      "text/plain": [
       "      age          job  marital  education  default  balance  housing  loan  \\\n",
       "3296   58  blue-collar  married  secondary        0      590        0     1   \n",
       "3751   39   technician  married  secondary        0      116        0     0   \n",
       "220    53      retired  married   tertiary        0      -22        1     0   \n",
       "3675   33   management   single   tertiary        0      349        0     0   \n",
       "581    28   technician   single  secondary        0      227        0     0   \n",
       "\n",
       "       contact  day month  duration  campaign  pdays  previous poutcome  y  \n",
       "3296   unknown    5   jun       133         1     -1         0  unknown  0  \n",
       "3751  cellular   24   aug        79         2     94         2  success  0  \n",
       "220   cellular   31   jul        20         3     -1         0  unknown  0  \n",
       "3675  cellular   22   aug       182         1     -1         0  unknown  0  \n",
       "581   cellular   30   apr       278         1     -1         0  unknown  1  "
      ]
     },
     "execution_count": 8,
     "metadata": {},
     "output_type": "execute_result"
    }
   ],
   "source": [
    "# Check changes in data\n",
    "Bank_data.sample(5)"
   ]
  },
  {
   "cell_type": "code",
   "execution_count": 9,
   "id": "96860de2",
   "metadata": {},
   "outputs": [],
   "source": [
    "# Remove unknown values form dataset\n",
    "Bank_data.drop(Bank_data[Bank_data['job'] == 'unknown'].index, inplace=True)\n",
    "Bank_data.drop(Bank_data[Bank_data['marital'] == 'unknown'].index, inplace=True)\n",
    "Bank_data.drop(Bank_data[Bank_data['education'] == 'unknown'].index, inplace=True)\n",
    "Bank_data.drop(Bank_data[Bank_data['default'] == 'unknown'].index, inplace=True)\n",
    "Bank_data.drop(Bank_data[Bank_data['housing'] == 'unknown'].index, inplace=True)\n",
    "Bank_data.drop(Bank_data[Bank_data['loan'] == 'unknown'].index, inplace=True)\n",
    "Bank_data.drop(Bank_data[Bank_data['contact'] == 'unknown'].index, inplace=True)\n",
    "Bank_data.drop(Bank_data[Bank_data['poutcome'] == 'unknown'].index, inplace=True)"
   ]
  },
  {
   "cell_type": "code",
   "execution_count": 10,
   "id": "fdde01ab",
   "metadata": {},
   "outputs": [
    {
     "data": {
      "text/html": [
       "<div>\n",
       "<style scoped>\n",
       "    .dataframe tbody tr th:only-of-type {\n",
       "        vertical-align: middle;\n",
       "    }\n",
       "\n",
       "    .dataframe tbody tr th {\n",
       "        vertical-align: top;\n",
       "    }\n",
       "\n",
       "    .dataframe thead th {\n",
       "        text-align: right;\n",
       "    }\n",
       "</style>\n",
       "<table border=\"1\" class=\"dataframe\">\n",
       "  <thead>\n",
       "    <tr style=\"text-align: right;\">\n",
       "      <th></th>\n",
       "      <th>age</th>\n",
       "      <th>job</th>\n",
       "      <th>marital</th>\n",
       "      <th>education</th>\n",
       "      <th>default</th>\n",
       "      <th>balance</th>\n",
       "      <th>housing</th>\n",
       "      <th>loan</th>\n",
       "      <th>contact</th>\n",
       "      <th>day</th>\n",
       "      <th>month</th>\n",
       "      <th>duration</th>\n",
       "      <th>campaign</th>\n",
       "      <th>pdays</th>\n",
       "      <th>previous</th>\n",
       "      <th>poutcome</th>\n",
       "      <th>y</th>\n",
       "    </tr>\n",
       "  </thead>\n",
       "  <tbody>\n",
       "    <tr>\n",
       "      <th>83</th>\n",
       "      <td>52</td>\n",
       "      <td>services</td>\n",
       "      <td>married</td>\n",
       "      <td>secondary</td>\n",
       "      <td>0</td>\n",
       "      <td>657</td>\n",
       "      <td>0</td>\n",
       "      <td>0</td>\n",
       "      <td>telephone</td>\n",
       "      <td>7</td>\n",
       "      <td>jul</td>\n",
       "      <td>398</td>\n",
       "      <td>2</td>\n",
       "      <td>460</td>\n",
       "      <td>2</td>\n",
       "      <td>failure</td>\n",
       "      <td>1</td>\n",
       "    </tr>\n",
       "    <tr>\n",
       "      <th>217</th>\n",
       "      <td>30</td>\n",
       "      <td>blue-collar</td>\n",
       "      <td>married</td>\n",
       "      <td>secondary</td>\n",
       "      <td>0</td>\n",
       "      <td>975</td>\n",
       "      <td>1</td>\n",
       "      <td>0</td>\n",
       "      <td>cellular</td>\n",
       "      <td>13</td>\n",
       "      <td>may</td>\n",
       "      <td>256</td>\n",
       "      <td>2</td>\n",
       "      <td>351</td>\n",
       "      <td>2</td>\n",
       "      <td>failure</td>\n",
       "      <td>0</td>\n",
       "    </tr>\n",
       "    <tr>\n",
       "      <th>3869</th>\n",
       "      <td>36</td>\n",
       "      <td>management</td>\n",
       "      <td>divorced</td>\n",
       "      <td>tertiary</td>\n",
       "      <td>0</td>\n",
       "      <td>649</td>\n",
       "      <td>0</td>\n",
       "      <td>0</td>\n",
       "      <td>cellular</td>\n",
       "      <td>16</td>\n",
       "      <td>jul</td>\n",
       "      <td>237</td>\n",
       "      <td>2</td>\n",
       "      <td>91</td>\n",
       "      <td>1</td>\n",
       "      <td>failure</td>\n",
       "      <td>0</td>\n",
       "    </tr>\n",
       "    <tr>\n",
       "      <th>2904</th>\n",
       "      <td>39</td>\n",
       "      <td>management</td>\n",
       "      <td>married</td>\n",
       "      <td>tertiary</td>\n",
       "      <td>0</td>\n",
       "      <td>894</td>\n",
       "      <td>1</td>\n",
       "      <td>0</td>\n",
       "      <td>cellular</td>\n",
       "      <td>20</td>\n",
       "      <td>apr</td>\n",
       "      <td>491</td>\n",
       "      <td>1</td>\n",
       "      <td>326</td>\n",
       "      <td>1</td>\n",
       "      <td>other</td>\n",
       "      <td>0</td>\n",
       "    </tr>\n",
       "    <tr>\n",
       "      <th>2917</th>\n",
       "      <td>41</td>\n",
       "      <td>technician</td>\n",
       "      <td>single</td>\n",
       "      <td>tertiary</td>\n",
       "      <td>0</td>\n",
       "      <td>1646</td>\n",
       "      <td>1</td>\n",
       "      <td>0</td>\n",
       "      <td>cellular</td>\n",
       "      <td>4</td>\n",
       "      <td>feb</td>\n",
       "      <td>261</td>\n",
       "      <td>1</td>\n",
       "      <td>184</td>\n",
       "      <td>6</td>\n",
       "      <td>success</td>\n",
       "      <td>1</td>\n",
       "    </tr>\n",
       "  </tbody>\n",
       "</table>\n",
       "</div>"
      ],
      "text/plain": [
       "      age          job   marital  education  default  balance  housing  loan  \\\n",
       "83     52     services   married  secondary        0      657        0     0   \n",
       "217    30  blue-collar   married  secondary        0      975        1     0   \n",
       "3869   36   management  divorced   tertiary        0      649        0     0   \n",
       "2904   39   management   married   tertiary        0      894        1     0   \n",
       "2917   41   technician    single   tertiary        0     1646        1     0   \n",
       "\n",
       "        contact  day month  duration  campaign  pdays  previous poutcome  y  \n",
       "83    telephone    7   jul       398         2    460         2  failure  1  \n",
       "217    cellular   13   may       256         2    351         2  failure  0  \n",
       "3869   cellular   16   jul       237         2     91         1  failure  0  \n",
       "2904   cellular   20   apr       491         1    326         1    other  0  \n",
       "2917   cellular    4   feb       261         1    184         6  success  1  "
      ]
     },
     "execution_count": 10,
     "metadata": {},
     "output_type": "execute_result"
    }
   ],
   "source": [
    "# check changes in data\n",
    "Bank_data.sample(5)"
   ]
  },
  {
   "cell_type": "code",
   "execution_count": 11,
   "id": "a219f378",
   "metadata": {},
   "outputs": [],
   "source": [
    "def eda_categorical(data, variable, ax=None):\n",
    "    variable_df = data[variable].value_counts(normalize=True).reset_index()\n",
    "    n_colors = len(variable_df)\n",
    "    variable_df.set_index('index').T.plot(kind='barh',\n",
    "                                        stacked=True,\n",
    "                                        colormap=ListedColormap(sns.color_palette(\"Set2\", n_colors)),\n",
    "                                        width=0.15, ax=ax)\n",
    "\n",
    "def multiple_eda_categorical(data, list_categorical):\n",
    "    n_rows = math.ceil(len(list_categorical)/2)\n",
    "    fig = plt.figure(figsize=(12,n_rows*3))\n",
    "\n",
    "    for i, variable in enumerate(list_categorical):\n",
    "        ax = fig.add_subplot(n_rows,2,i+1)\n",
    "        eda_categorical(data, variable, ax=ax)\n",
    "    \n",
    "    plt.tight_layout()\n",
    "    plt.show()\n",
    "\n",
    "def multiple_eda_continuous(data, list_continuous):\n",
    "    n_rows = math.ceil(len(list_continuous)/3)\n",
    "    fig = plt.figure(figsize=(12,n_rows*5))\n",
    "    palette = sns.color_palette('Set2', 10)\n",
    "\n",
    "    for i, variable in enumerate(list_continuous):\n",
    "        ax = fig.add_subplot(n_rows,3,i+1)\n",
    "        sns.boxplot(x=variable, data=data, palette=[palette[i]], ax=ax)\n",
    "        ax.set_ylabel('')\n",
    "        ax.set_title(variable)\n",
    "\n",
    "    plt.tight_layout()\n",
    "    plt.show()"
   ]
  },
  {
   "cell_type": "code",
   "execution_count": 12,
   "id": "b0922665",
   "metadata": {},
   "outputs": [],
   "source": [
    "continuous, categorical = [], []\n",
    "rev_list = ['housing', 'loan', 'default']\n",
    "\n",
    "for col in [c for c in Bank_data.columns if c not in rev_list and c != 'y']:\n",
    "    if is_numeric_dtype(Bank_data[col]):\n",
    "        continuous.append(col)\n",
    "    else:\n",
    "        categorical.append(col)"
   ]
  },
  {
   "cell_type": "code",
   "execution_count": 13,
   "id": "f6e41533",
   "metadata": {},
   "outputs": [
    {
     "data": {
      "text/plain": [
       "['age', 'balance', 'day', 'duration', 'campaign', 'pdays', 'previous']"
      ]
     },
     "execution_count": 13,
     "metadata": {},
     "output_type": "execute_result"
    }
   ],
   "source": [
    "continuous"
   ]
  },
  {
   "cell_type": "code",
   "execution_count": 14,
   "id": "5dc99407",
   "metadata": {},
   "outputs": [
    {
     "data": {
      "text/plain": [
       "['job', 'marital', 'education', 'contact', 'month', 'poutcome']"
      ]
     },
     "execution_count": 14,
     "metadata": {},
     "output_type": "execute_result"
    }
   ],
   "source": [
    "categorical"
   ]
  },
  {
   "cell_type": "markdown",
   "id": "456f4e69",
   "metadata": {},
   "source": [
    "# Exploratory Data Analysis\n"
   ]
  },
  {
   "cell_type": "code",
   "execution_count": 15,
   "id": "cf121a83",
   "metadata": {},
   "outputs": [
    {
     "name": "stdout",
     "output_type": "stream",
     "text": [
      "Dataset contains 764 records\n",
      "Number of customers who subscribed to a term deposit: 593 (77.62%)\n"
     ]
    }
   ],
   "source": [
    "n = len(Bank_data)\n",
    "n_not_subscribed = sum(Bank_data['y'])\n",
    "n_subscribed = n - n_not_subscribed\n",
    "\n",
    "print('Dataset contains %d records' % (n))\n",
    "print('Number of customers who subscribed to a term deposit: %d (%0.2f%%)' % (n_subscribed, n_subscribed*100/n))"
   ]
  },
  {
   "cell_type": "code",
   "execution_count": 16,
   "id": "44bf8cda",
   "metadata": {},
   "outputs": [
    {
     "data": {
      "text/plain": [
       "<AxesSubplot:>"
      ]
     },
     "execution_count": 16,
     "metadata": {},
     "output_type": "execute_result"
    },
    {
     "data": {
      "image/png": "[encoded data removed]",
      "text/plain": [
       "<Figure size 432x288 with 2 Axes>"
      ]
     },
     "metadata": {
      "needs_background": "light"
     },
     "output_type": "display_data"
    }
   ],
   "source": [
    "# Correlation matrix\n",
    "sns.heatmap(Bank_data.corr())"
   ]
  },
  {
   "cell_type": "code",
   "execution_count": 17,
   "id": "d73ec705",
   "metadata": {},
   "outputs": [
    {
     "data": {
      "image/png": "[encoded data removed]",
      "text/plain": [
       "<Figure size 864x648 with 6 Axes>"
      ]
     },
     "metadata": {
      "needs_background": "light"
     },
     "output_type": "display_data"
    }
   ],
   "source": [
    "multiple_eda_categorical(Bank_data, categorical)"
   ]
  },
  {
   "cell_type": "code",
   "execution_count": 18,
   "id": "40e0d15e",
   "metadata": {},
   "outputs": [
    {
     "data": {
      "image/png": "[encoded data removed]",
      "text/plain": [
       "<Figure size 864x1080 with 7 Axes>"
      ]
     },
     "metadata": {
      "needs_background": "light"
     },
     "output_type": "display_data"
    }
   ],
   "source": [
    "multiple_eda_continuous(Bank_data, continuous)"
   ]
  },
  {
   "cell_type": "code",
   "execution_count": 19,
   "id": "c4500c67",
   "metadata": {},
   "outputs": [
    {
     "data": {
      "text/plain": [
       "<AxesSubplot:xlabel='age', ylabel='Count'>"
      ]
     },
     "execution_count": 19,
     "metadata": {},
     "output_type": "execute_result"
    },
    {
     "data": {
      "image/png": "[encoded data removed]",
      "text/plain": [
       "<Figure size 432x288 with 1 Axes>"
      ]
     },
     "metadata": {
      "needs_background": "light"
     },
     "output_type": "display_data"
    }
   ],
   "source": [
    "sns.histplot(data=Bank_data, x=\"age\")"
   ]
  },
  {
   "cell_type": "code",
   "execution_count": 20,
   "id": "618fcb17",
   "metadata": {},
   "outputs": [
    {
     "data": {
      "text/plain": [
       "<AxesSubplot:xlabel='duration', ylabel='Count'>"
      ]
     },
     "execution_count": 20,
     "metadata": {},
     "output_type": "execute_result"
    },
    {
     "data": {
      "image/png": "[encoded data removed]",
      "text/plain": [
       "<Figure size 432x288 with 1 Axes>"
      ]
     },
     "metadata": {
      "needs_background": "light"
     },
     "output_type": "display_data"
    }
   ],
   "source": [
    "sns.histplot(data=Bank_data, x=\"duration\")"
   ]
  },
  {
   "cell_type": "code",
   "execution_count": 21,
   "id": "3169e497",
   "metadata": {},
   "outputs": [
    {
     "data": {
      "text/plain": [
       "<AxesSubplot:xlabel='day', ylabel='Count'>"
      ]
     },
     "execution_count": 21,
     "metadata": {},
     "output_type": "execute_result"
    },
    {
     "data": {
      "image/png": "[encoded data removed]",
      "text/plain": [
       "<Figure size 432x288 with 1 Axes>"
      ]
     },
     "metadata": {
      "needs_background": "light"
     },
     "output_type": "display_data"
    }
   ],
   "source": [
    "sns.histplot(data=Bank_data, x=\"day\")"
   ]
  },
  {
   "cell_type": "code",
   "execution_count": 22,
   "id": "6b275b8d",
   "metadata": {},
   "outputs": [
    {
     "data": {
      "text/plain": [
       "<AxesSubplot:xlabel='balance', ylabel='Count'>"
      ]
     },
     "execution_count": 22,
     "metadata": {},
     "output_type": "execute_result"
    },
    {
     "data": {
      "image/png": "[encoded data removed]",
      "text/plain": [
       "<Figure size 432x288 with 1 Axes>"
      ]
     },
     "metadata": {
      "needs_background": "light"
     },
     "output_type": "display_data"
    }
   ],
   "source": [
    "sns.histplot(data=Bank_data, x=\"balance\")"
   ]
  },
  {
   "cell_type": "code",
   "execution_count": 23,
   "id": "a0238125",
   "metadata": {},
   "outputs": [
    {
     "data": {
      "text/plain": [
       "<AxesSubplot:xlabel='campaign', ylabel='Count'>"
      ]
     },
     "execution_count": 23,
     "metadata": {},
     "output_type": "execute_result"
    },
    {
     "data": {
      "image/png": "[encoded data removed]",
      "text/plain": [
       "<Figure size 432x288 with 1 Axes>"
      ]
     },
     "metadata": {
      "needs_background": "light"
     },
     "output_type": "display_data"
    }
   ],
   "source": [
    "sns.histplot(data=Bank_data, x=\"campaign\")"
   ]
  },
  {
   "cell_type": "code",
   "execution_count": 24,
   "id": "495ec457",
   "metadata": {},
   "outputs": [
    {
     "data": {
      "text/plain": [
       "<AxesSubplot:xlabel='pdays', ylabel='Count'>"
      ]
     },
     "execution_count": 24,
     "metadata": {},
     "output_type": "execute_result"
    },
    {
     "data": {
      "image/png": "[encoded data removed]",
      "text/plain": [
       "<Figure size 432x288 with 1 Axes>"
      ]
     },
     "metadata": {
      "needs_background": "light"
     },
     "output_type": "display_data"
    }
   ],
   "source": [
    "sns.histplot(data=Bank_data, x=\"pdays\")"
   ]
  },
  {
   "cell_type": "code",
   "execution_count": 25,
   "id": "0218e97c",
   "metadata": {},
   "outputs": [
    {
     "data": {
      "text/plain": [
       "<AxesSubplot:xlabel='previous', ylabel='Count'>"
      ]
     },
     "execution_count": 25,
     "metadata": {},
     "output_type": "execute_result"
    },
    {
     "data": {
      "image/png": "[encoded data removed]",
      "text/plain": [
       "<Figure size 432x288 with 1 Axes>"
      ]
     },
     "metadata": {
      "needs_background": "light"
     },
     "output_type": "display_data"
    }
   ],
   "source": [
    "sns.histplot(data=Bank_data, x=\"previous\")"
   ]
  },
  {
   "cell_type": "code",
   "execution_count": 26,
   "id": "65100205",
   "metadata": {},
   "outputs": [
    {
     "name": "stdout",
     "output_type": "stream",
     "text": [
      "skewness age:1.0387673109710591\n",
      "kurtosis age:1.1558727431003812\n",
      "skewness balance:4.118196818380047\n",
      "kurtosis balance:22.47192535963755\n",
      "skewness day:0.2921196558041307\n",
      "kurtosis day:-0.7463193502678638\n",
      "skewness duration:2.2222243156579515\n",
      "kurtosis duration:6.260778768052605\n",
      "skewness campaign:2.315116889048518\n",
      "kurtosis campaign:6.311455557122773\n",
      "skewness pdays:0.7305006090598364\n",
      "kurtosis pdays:1.884630497342513\n",
      "skewness previous:3.313444050008051\n",
      "kurtosis previous:16.198806584233512\n"
     ]
    }
   ],
   "source": [
    "# Check skewness and kurtosis\n",
    "for i in continuous:\n",
    "    print(f'skewness {i}:'+ str (Bank_data[i].skew()))\n",
    "    print(f'kurtosis {i}:' + str(Bank_data[i].kurtosis()))"
   ]
  },
  {
   "cell_type": "markdown",
   "id": "ddf24a93",
   "metadata": {},
   "source": [
    "# Suggested method for dealing with outliers"
   ]
  },
  {
   "cell_type": "code",
   "execution_count": 27,
   "id": "79d6da2d",
   "metadata": {},
   "outputs": [
    {
     "name": "stdout",
     "output_type": "stream",
     "text": [
      "age           15.00\n",
      "default        0.00\n",
      "balance     1507.50\n",
      "housing        1.00\n",
      "loan           0.00\n",
      "day           11.50\n",
      "duration     212.25\n",
      "campaign       1.00\n",
      "pdays        189.25\n",
      "previous       3.00\n",
      "y              0.00\n",
      "dtype: float64\n",
      "(354, 17)\n"
     ]
    },
    {
     "name": "stderr",
     "output_type": "stream",
     "text": [
      "C:\\Users\\Khanyi\\AppData\\Local\\Temp/ipykernel_8348/2459866011.py:8: FutureWarning: Automatic reindexing on DataFrame vs Series comparisons is deprecated and will raise ValueError in a future version.  Do `left, right = left.align(right, axis=1, copy=False)` before e.g. `left == right`\n",
      "  Bank_data_out = Bank_data[~((Bank_data < (Q1 - 1.5 * IQR)) |(Bank_data > (Q3 + 1.5 * IQR))).any(axis=1)]\n"
     ]
    }
   ],
   "source": [
    "# Method 1\n",
    "# IQR score\n",
    "Q1 = Bank_data.quantile(0.25)\n",
    "Q3 = Bank_data.quantile(0.75)\n",
    "IQR = Q3 - Q1\n",
    "print(IQR)\n",
    "\n",
    "Bank_data_out = Bank_data[~((Bank_data < (Q1 - 1.5 * IQR)) |(Bank_data > (Q3 + 1.5 * IQR))).any(axis=1)]\n",
    "print(Bank_data_out.shape)"
   ]
  },
  {
   "cell_type": "code",
   "execution_count": 28,
   "id": "433ee0bd",
   "metadata": {},
   "outputs": [
    {
     "data": {
      "image/png": "[encoded data removed]",
      "text/plain": [
       "<Figure size 864x1080 with 7 Axes>"
      ]
     },
     "metadata": {
      "needs_background": "light"
     },
     "output_type": "display_data"
    }
   ],
   "source": [
    "# Check outliers after flooring and capping using IQR\n",
    "multiple_eda_continuous(Bank_data_out, continuous)"
   ]
  },
  {
   "cell_type": "code",
   "execution_count": 29,
   "id": "42844c0b",
   "metadata": {},
   "outputs": [
    {
     "name": "stdout",
     "output_type": "stream",
     "text": [
      "skewness age:1.0387673109710591\n",
      "skewness age:0.7466889077589014\n",
      "kurtosis age:1.1558727431003812\n",
      "kurtosis age:-0.012350412667140986\n",
      "skewness balance:4.118196818380047\n",
      "skewness balance:1.3599440933581954\n",
      "kurtosis balance:22.47192535963755\n",
      "kurtosis balance:1.806331869697361\n",
      "skewness day:0.2921196558041307\n",
      "skewness day:0.37819284271588616\n",
      "kurtosis day:-0.7463193502678638\n",
      "kurtosis day:-0.607495051527065\n",
      "skewness duration:2.2222243156579515\n",
      "skewness duration:1.1479904436792574\n",
      "kurtosis duration:6.260778768052605\n",
      "kurtosis duration:0.8459030996344614\n",
      "skewness campaign:2.315116889048518\n",
      "skewness campaign:0.9122029779772568\n",
      "kurtosis campaign:6.311455557122773\n",
      "kurtosis campaign:-0.3639093544923342\n",
      "skewness pdays:0.7305006090598364\n",
      "skewness pdays:-0.18319590806731162\n",
      "kurtosis pdays:1.884630497342513\n",
      "kurtosis pdays:-1.0241321515989603\n",
      "skewness previous:3.313444050008051\n",
      "skewness previous:1.496318923459939\n",
      "kurtosis previous:16.198806584233512\n",
      "kurtosis previous:1.755600914201906\n"
     ]
    }
   ],
   "source": [
    "# Compare skewness and kurtosis after transforming dataset with method 1\n",
    "for i in continuous:\n",
    "    print(f'skewness {i}:'+ str (Bank_data[i].skew()))\n",
    "    print(f'skewness {i}:'+ str (Bank_data_out[i].skew()))\n",
    "    print(f'kurtosis {i}:' + str(Bank_data[i].kurtosis()))\n",
    "    print(f'kurtosis {i}:' + str(Bank_data_out[i].kurtosis()))\n",
    "    "
   ]
  },
  {
   "cell_type": "code",
   "execution_count": 30,
   "id": "5ff5f737",
   "metadata": {},
   "outputs": [],
   "source": [
    "# Method 2\n",
    "# Binning\n",
    "Bank_data1 = Bank_data.copy()\n",
    "\n",
    "# Bin age \n",
    "bin_age = ['19-30','31-40','41-50','51-60','60+']\n",
    "cut_bins = [19,31,41,51,61,87]\n",
    "Bank_data1['Age group'] = pd.cut(Bank_data['age'], bins=cut_bins, labels=bin_age, include_lowest=True)\n",
    "                               \n",
    "# Bin balance\n",
    "bin_balance = ['Very low','Low','Medium','High']\n",
    "cut_bins_balance = [-3313,70,445,1481,71188]\n",
    "Bank_data1['Balance group'] = pd.cut(Bank_data['balance'], bins=cut_bins_balance, labels=bin_balance, include_lowest=True)\n",
    "\n",
    "# Bin duration\n",
    "bin_duration = ['short','medium','long']\n",
    "cut_bins_duration = [4,186,330,3025]\n",
    "Bank_data1['Duration group'] = pd.cut(Bank_data['duration'], bins=cut_bins_duration, labels=bin_duration, include_lowest=True)\n",
    "\n",
    "# Bin campaign\n",
    "bin_campaign = ['1-10','11-20','20+']\n",
    "cut_bins_campaign = [1,11,21,50]\n",
    "Bank_data1['Campaign length'] = pd.cut(Bank_data['campaign'], bins=cut_bins_campaign, labels=bin_campaign, include_lowest=True)\n",
    "\n",
    "Bank_data1.drop(['age', 'balance', 'duration', 'campaign'], axis=1, inplace=True)"
   ]
  },
  {
   "cell_type": "code",
   "execution_count": 31,
   "id": "1da01be6",
   "metadata": {},
   "outputs": [
    {
     "data": {
      "text/html": [
       "<div>\n",
       "<style scoped>\n",
       "    .dataframe tbody tr th:only-of-type {\n",
       "        vertical-align: middle;\n",
       "    }\n",
       "\n",
       "    .dataframe tbody tr th {\n",
       "        vertical-align: top;\n",
       "    }\n",
       "\n",
       "    .dataframe thead th {\n",
       "        text-align: right;\n",
       "    }\n",
       "</style>\n",
       "<table border=\"1\" class=\"dataframe\">\n",
       "  <thead>\n",
       "    <tr style=\"text-align: right;\">\n",
       "      <th></th>\n",
       "      <th>job</th>\n",
       "      <th>marital</th>\n",
       "      <th>education</th>\n",
       "      <th>default</th>\n",
       "      <th>housing</th>\n",
       "      <th>loan</th>\n",
       "      <th>contact</th>\n",
       "      <th>day</th>\n",
       "      <th>month</th>\n",
       "      <th>pdays</th>\n",
       "      <th>previous</th>\n",
       "      <th>poutcome</th>\n",
       "      <th>y</th>\n",
       "      <th>Age group</th>\n",
       "      <th>Balance group</th>\n",
       "      <th>Duration group</th>\n",
       "      <th>Campaign length</th>\n",
       "    </tr>\n",
       "  </thead>\n",
       "  <tbody>\n",
       "    <tr>\n",
       "      <th>2185</th>\n",
       "      <td>services</td>\n",
       "      <td>married</td>\n",
       "      <td>secondary</td>\n",
       "      <td>0</td>\n",
       "      <td>1</td>\n",
       "      <td>0</td>\n",
       "      <td>cellular</td>\n",
       "      <td>6</td>\n",
       "      <td>may</td>\n",
       "      <td>351</td>\n",
       "      <td>2</td>\n",
       "      <td>failure</td>\n",
       "      <td>0</td>\n",
       "      <td>31-40</td>\n",
       "      <td>Medium</td>\n",
       "      <td>medium</td>\n",
       "      <td>1-10</td>\n",
       "    </tr>\n",
       "    <tr>\n",
       "      <th>1518</th>\n",
       "      <td>technician</td>\n",
       "      <td>married</td>\n",
       "      <td>secondary</td>\n",
       "      <td>0</td>\n",
       "      <td>0</td>\n",
       "      <td>0</td>\n",
       "      <td>cellular</td>\n",
       "      <td>20</td>\n",
       "      <td>apr</td>\n",
       "      <td>343</td>\n",
       "      <td>4</td>\n",
       "      <td>failure</td>\n",
       "      <td>0</td>\n",
       "      <td>31-40</td>\n",
       "      <td>Low</td>\n",
       "      <td>short</td>\n",
       "      <td>1-10</td>\n",
       "    </tr>\n",
       "    <tr>\n",
       "      <th>3471</th>\n",
       "      <td>blue-collar</td>\n",
       "      <td>married</td>\n",
       "      <td>primary</td>\n",
       "      <td>0</td>\n",
       "      <td>1</td>\n",
       "      <td>0</td>\n",
       "      <td>cellular</td>\n",
       "      <td>14</td>\n",
       "      <td>may</td>\n",
       "      <td>259</td>\n",
       "      <td>17</td>\n",
       "      <td>failure</td>\n",
       "      <td>0</td>\n",
       "      <td>41-50</td>\n",
       "      <td>Medium</td>\n",
       "      <td>short</td>\n",
       "      <td>1-10</td>\n",
       "    </tr>\n",
       "    <tr>\n",
       "      <th>814</th>\n",
       "      <td>technician</td>\n",
       "      <td>married</td>\n",
       "      <td>secondary</td>\n",
       "      <td>0</td>\n",
       "      <td>1</td>\n",
       "      <td>0</td>\n",
       "      <td>cellular</td>\n",
       "      <td>4</td>\n",
       "      <td>feb</td>\n",
       "      <td>247</td>\n",
       "      <td>1</td>\n",
       "      <td>other</td>\n",
       "      <td>0</td>\n",
       "      <td>41-50</td>\n",
       "      <td>Very low</td>\n",
       "      <td>short</td>\n",
       "      <td>1-10</td>\n",
       "    </tr>\n",
       "    <tr>\n",
       "      <th>3684</th>\n",
       "      <td>admin.</td>\n",
       "      <td>single</td>\n",
       "      <td>tertiary</td>\n",
       "      <td>0</td>\n",
       "      <td>0</td>\n",
       "      <td>0</td>\n",
       "      <td>cellular</td>\n",
       "      <td>30</td>\n",
       "      <td>apr</td>\n",
       "      <td>85</td>\n",
       "      <td>2</td>\n",
       "      <td>success</td>\n",
       "      <td>1</td>\n",
       "      <td>19-30</td>\n",
       "      <td>Low</td>\n",
       "      <td>long</td>\n",
       "      <td>1-10</td>\n",
       "    </tr>\n",
       "    <tr>\n",
       "      <th>3951</th>\n",
       "      <td>technician</td>\n",
       "      <td>single</td>\n",
       "      <td>secondary</td>\n",
       "      <td>0</td>\n",
       "      <td>1</td>\n",
       "      <td>0</td>\n",
       "      <td>cellular</td>\n",
       "      <td>17</td>\n",
       "      <td>nov</td>\n",
       "      <td>123</td>\n",
       "      <td>2</td>\n",
       "      <td>failure</td>\n",
       "      <td>0</td>\n",
       "      <td>41-50</td>\n",
       "      <td>Low</td>\n",
       "      <td>medium</td>\n",
       "      <td>1-10</td>\n",
       "    </tr>\n",
       "    <tr>\n",
       "      <th>4169</th>\n",
       "      <td>services</td>\n",
       "      <td>divorced</td>\n",
       "      <td>secondary</td>\n",
       "      <td>0</td>\n",
       "      <td>1</td>\n",
       "      <td>0</td>\n",
       "      <td>cellular</td>\n",
       "      <td>14</td>\n",
       "      <td>may</td>\n",
       "      <td>360</td>\n",
       "      <td>1</td>\n",
       "      <td>failure</td>\n",
       "      <td>0</td>\n",
       "      <td>31-40</td>\n",
       "      <td>Low</td>\n",
       "      <td>short</td>\n",
       "      <td>1-10</td>\n",
       "    </tr>\n",
       "    <tr>\n",
       "      <th>314</th>\n",
       "      <td>admin.</td>\n",
       "      <td>single</td>\n",
       "      <td>tertiary</td>\n",
       "      <td>0</td>\n",
       "      <td>1</td>\n",
       "      <td>0</td>\n",
       "      <td>cellular</td>\n",
       "      <td>27</td>\n",
       "      <td>may</td>\n",
       "      <td>89</td>\n",
       "      <td>2</td>\n",
       "      <td>failure</td>\n",
       "      <td>1</td>\n",
       "      <td>19-30</td>\n",
       "      <td>Medium</td>\n",
       "      <td>medium</td>\n",
       "      <td>1-10</td>\n",
       "    </tr>\n",
       "    <tr>\n",
       "      <th>3236</th>\n",
       "      <td>blue-collar</td>\n",
       "      <td>married</td>\n",
       "      <td>primary</td>\n",
       "      <td>0</td>\n",
       "      <td>1</td>\n",
       "      <td>0</td>\n",
       "      <td>cellular</td>\n",
       "      <td>16</td>\n",
       "      <td>apr</td>\n",
       "      <td>146</td>\n",
       "      <td>9</td>\n",
       "      <td>other</td>\n",
       "      <td>0</td>\n",
       "      <td>41-50</td>\n",
       "      <td>High</td>\n",
       "      <td>medium</td>\n",
       "      <td>1-10</td>\n",
       "    </tr>\n",
       "    <tr>\n",
       "      <th>1077</th>\n",
       "      <td>admin.</td>\n",
       "      <td>married</td>\n",
       "      <td>tertiary</td>\n",
       "      <td>0</td>\n",
       "      <td>0</td>\n",
       "      <td>0</td>\n",
       "      <td>cellular</td>\n",
       "      <td>27</td>\n",
       "      <td>mar</td>\n",
       "      <td>130</td>\n",
       "      <td>2</td>\n",
       "      <td>failure</td>\n",
       "      <td>1</td>\n",
       "      <td>31-40</td>\n",
       "      <td>High</td>\n",
       "      <td>short</td>\n",
       "      <td>1-10</td>\n",
       "    </tr>\n",
       "  </tbody>\n",
       "</table>\n",
       "</div>"
      ],
      "text/plain": [
       "              job   marital  education  default  housing  loan   contact  day  \\\n",
       "2185     services   married  secondary        0        1     0  cellular    6   \n",
       "1518   technician   married  secondary        0        0     0  cellular   20   \n",
       "3471  blue-collar   married    primary        0        1     0  cellular   14   \n",
       "814    technician   married  secondary        0        1     0  cellular    4   \n",
       "3684       admin.    single   tertiary        0        0     0  cellular   30   \n",
       "3951   technician    single  secondary        0        1     0  cellular   17   \n",
       "4169     services  divorced  secondary        0        1     0  cellular   14   \n",
       "314        admin.    single   tertiary        0        1     0  cellular   27   \n",
       "3236  blue-collar   married    primary        0        1     0  cellular   16   \n",
       "1077       admin.   married   tertiary        0        0     0  cellular   27   \n",
       "\n",
       "     month  pdays  previous poutcome  y Age group Balance group  \\\n",
       "2185   may    351         2  failure  0     31-40        Medium   \n",
       "1518   apr    343         4  failure  0     31-40           Low   \n",
       "3471   may    259        17  failure  0     41-50        Medium   \n",
       "814    feb    247         1    other  0     41-50      Very low   \n",
       "3684   apr     85         2  success  1     19-30           Low   \n",
       "3951   nov    123         2  failure  0     41-50           Low   \n",
       "4169   may    360         1  failure  0     31-40           Low   \n",
       "314    may     89         2  failure  1     19-30        Medium   \n",
       "3236   apr    146         9    other  0     41-50          High   \n",
       "1077   mar    130         2  failure  1     31-40          High   \n",
       "\n",
       "     Duration group Campaign length  \n",
       "2185         medium            1-10  \n",
       "1518          short            1-10  \n",
       "3471          short            1-10  \n",
       "814           short            1-10  \n",
       "3684           long            1-10  \n",
       "3951         medium            1-10  \n",
       "4169          short            1-10  \n",
       "314          medium            1-10  \n",
       "3236         medium            1-10  \n",
       "1077          short            1-10  "
      ]
     },
     "execution_count": 31,
     "metadata": {},
     "output_type": "execute_result"
    }
   ],
   "source": [
    "Bank_data1.sample(10)"
   ]
  },
  {
   "cell_type": "markdown",
   "id": "f639acc5",
   "metadata": {},
   "source": [
    "# Weight of Evidence (WOE) and Information Value (IV)"
   ]
  },
  {
   "cell_type": "code",
   "execution_count": 32,
   "id": "9bcf3905",
   "metadata": {},
   "outputs": [],
   "source": [
    "def calculate_woe_iv(dataset, feature, target):\n",
    "    lst = []\n",
    "    for i in range(dataset[feature].nunique()):\n",
    "        val = list(dataset[feature].unique())[i]\n",
    "        lst.append({\n",
    "            'Value': val,\n",
    "            'All': dataset[dataset[feature] == val].count()[feature],\n",
    "            'Good': dataset[(dataset[feature] == val) & (dataset[target] == 0)].count()[feature],\n",
    "            'Bad': dataset[(dataset[feature] == val) & (dataset[target] == 1)].count()[feature]\n",
    "        })\n",
    "        \n",
    "    dset = pd.DataFrame(lst)\n",
    "    dset['Distr_Good'] = dset['Good'] / dset['Good'].sum()\n",
    "    dset['Distr_Bad'] = dset['Bad'] / dset['Bad'].sum()\n",
    "    dset['WoE'] = np.log(dset['Distr_Good'] / dset['Distr_Bad'])\n",
    "    dset = dset.replace({'WoE': {np.inf: 0, -np.inf: 0}})\n",
    "    dset['IV'] = (dset['Distr_Good'] - dset['Distr_Bad']) * dset['WoE']\n",
    "    iv = dset['IV'].sum()\n",
    "    \n",
    "    dset = dset.sort_values(by='WoE')\n",
    "    \n",
    "    return dset, iv"
   ]
  },
  {
   "cell_type": "code",
   "execution_count": 33,
   "id": "28bf4cb1",
   "metadata": {},
   "outputs": [
    {
     "name": "stdout",
     "output_type": "stream",
     "text": [
      "WoE and IV for column: age\n"
     ]
    },
    {
     "name": "stderr",
     "output_type": "stream",
     "text": [
      "C:\\Users\\Khanyi\\anaconda3\\lib\\site-packages\\pandas\\core\\arraylike.py:364: RuntimeWarning: divide by zero encountered in log\n",
      "  result = getattr(ufunc, method)(*inputs, **kwargs)\n"
     ]
    },
    {
     "name": "stdout",
     "output_type": "stream",
     "text": [
      "    Value  All  Good  Bad  Distr_Good  Distr_Bad       WoE        IV\n",
      "19     75    3     1    2    0.001686   0.011696 -1.936678  0.019385\n",
      "44     80    3     1    2    0.001686   0.011696 -1.936678  0.019385\n",
      "26     25    5     2    3    0.003373   0.017544 -1.648996  0.023368\n",
      "55     66    2     1    1    0.001686   0.005848 -1.243531  0.005175\n",
      "45     83    2     1    1    0.001686   0.005848 -1.243531  0.005175\n",
      "52     69    2     1    1    0.001686   0.005848 -1.243531  0.005175\n",
      "47     73    2     1    1    0.001686   0.005848 -1.243531  0.005175\n",
      "34     77    4     2    2    0.003373   0.011696 -1.243531  0.010350\n",
      "40     48   11     6    5    0.010118   0.029240 -1.061209  0.020292\n",
      "33     59   14     8    6    0.013491   0.035088 -0.955849  0.020643\n",
      "6      55   16    10    6    0.016863   0.035088 -0.732705  0.013353\n",
      "11     52   14     9    5    0.015177   0.029240 -0.655744  0.009222\n",
      "35     53   14     9    5    0.015177   0.029240 -0.655744  0.009222\n",
      "46     24    3     2    1    0.003373   0.005848 -0.550384  0.001362\n",
      "27     63    3     2    1    0.003373   0.005848 -0.550384  0.001362\n",
      "15     21    3     2    1    0.003373   0.005848 -0.550384  0.001362\n",
      "37     60    6     4    2    0.006745   0.011696 -0.550384  0.002725\n",
      "38     64    3     2    1    0.003373   0.005848 -0.550384  0.001362\n",
      "16     29   19    13    6    0.021922   0.035088 -0.470341  0.006192\n",
      "18     28   19    13    6    0.021922   0.035088 -0.470341  0.006192\n",
      "25     49   10     7    3    0.011804   0.017544 -0.396233  0.002274\n",
      "30     42   15    11    4    0.018550   0.023392 -0.231930  0.001123\n",
      "3      43   23    17    6    0.028668   0.035088 -0.202077  0.001297\n",
      "28     47   20    15    5    0.025295   0.029240 -0.144919  0.000572\n",
      "39     26   13    10    3    0.016863   0.017544 -0.039558  0.000027\n",
      "43     71    1     1    0    0.001686   0.000000  0.000000  0.000000\n",
      "42     20    1     1    0    0.001686   0.000000  0.000000  0.000000\n",
      "49     70    5     5    0    0.008432   0.000000  0.000000  0.000000\n",
      "50     86    1     1    0    0.001686   0.000000  0.000000  0.000000\n",
      "51     22    2     0    2    0.000000   0.011696  0.000000 -0.000000\n",
      "53     74    1     1    0    0.001686   0.000000  0.000000  0.000000\n",
      "36     61    2     2    0    0.003373   0.000000  0.000000  0.000000\n",
      "54     23    1     1    0    0.001686   0.000000  0.000000  0.000000\n",
      "57     62    1     0    1    0.000000   0.005848  0.000000 -0.000000\n",
      "56     79    1     0    1    0.000000   0.005848  0.000000 -0.000000\n",
      "24     65    2     2    0    0.003373   0.000000  0.000000  0.000000\n",
      "1      35   36    28    8    0.047218   0.046784  0.009232  0.000004\n",
      "8      51   14    11    3    0.018550   0.017544  0.055752  0.000056\n",
      "20     39   19    15    4    0.025295   0.023392  0.078225  0.000149\n",
      "13     38   34    27    7    0.045531   0.040936  0.106396  0.000489\n",
      "7      34   39    31    8    0.052277   0.046784  0.111015  0.000610\n",
      "31     54   10     8    2    0.013491   0.011696  0.142764  0.000256\n",
      "23     58   10     8    2    0.013491   0.011696  0.142764  0.000256\n",
      "4      31   31    25    6    0.042159   0.035088  0.183586  0.001298\n",
      "14     32   37    30    7    0.050590   0.040936  0.211756  0.002044\n",
      "32     27   16    13    3    0.021922   0.017544  0.222806  0.000976\n",
      "9      41   16    13    3    0.021922   0.017544  0.222806  0.000976\n",
      "12     30   22    18    4    0.030354   0.023392  0.260547  0.001814\n",
      "5      37   34    28    6    0.047218   0.035088  0.296914  0.003602\n",
      "17     46   24    20    4    0.033727   0.023392  0.365907  0.003782\n",
      "2      36   39    33    6    0.055649   0.035088  0.461217  0.009483\n",
      "0      33   34    29    5    0.048904   0.029240  0.514327  0.010114\n",
      "41     56    8     7    1    0.011804   0.005848  0.702379  0.004184\n",
      "10     40   35    31    4    0.052277   0.023392  0.804162  0.023228\n",
      "48     57    9     8    1    0.013491   0.005848  0.835911  0.006389\n",
      "22     45   18    16    2    0.026981   0.011696  0.835911  0.012777\n",
      "21     44   10     9    1    0.015177   0.005848  0.953694  0.008897\n",
      "29     50   22    21    1    0.035413   0.005848  1.800992  0.053247\n",
      "IV score: 0.34\n",
      "\n",
      "\n",
      "WoE and IV for column: job\n",
      "            Value  All  Good  Bad  Distr_Good  Distr_Bad       WoE        IV\n",
      "7         student   19    11    8    0.018550   0.046784 -0.925077  0.026119\n",
      "8         retired   44    30   14    0.050590   0.081871 -0.481391  0.015058\n",
      "9       housemaid   17    12    5    0.020236   0.029240 -0.368062  0.003314\n",
      "1      management  177   130   47    0.219224   0.274854 -0.226144  0.012580\n",
      "6      unemployed   20    15    5    0.025295   0.029240 -0.144919  0.000572\n",
      "4          admin.  102    77   25    0.129848   0.146199 -0.118601  0.001939\n",
      "0        services   58    44   14    0.074199   0.081871 -0.098399  0.000755\n",
      "5      technician  137   108   29    0.182125   0.169591  0.071305  0.000894\n",
      "2   self-employed   26    22    4    0.037099   0.023392  0.461217  0.006322\n",
      "10   entrepreneur   21    18    3    0.030354   0.017544  0.548229  0.007023\n",
      "3     blue-collar  143   126   17    0.212479   0.099415  0.759538  0.085876\n",
      "IV score: 0.16\n",
      "\n",
      "\n",
      "WoE and IV for column: marital\n",
      "      Value  All  Good  Bad  Distr_Good  Distr_Bad       WoE        IV\n",
      "2  divorced   80    59   21    0.099494   0.122807 -0.210516  0.004908\n",
      "1    single  228   174   54    0.293423   0.315789 -0.073460  0.001643\n",
      "0   married  456   360   96    0.607083   0.561404  0.078225  0.003573\n",
      "IV score: 0.01\n",
      "\n",
      "\n",
      "WoE and IV for column: education\n",
      "       Value  All  Good  Bad  Distr_Good  Distr_Bad       WoE        IV\n",
      "1   tertiary  260   190   70    0.320405   0.409357 -0.245002  0.021793\n",
      "0  secondary  407   321   86    0.541315   0.502924  0.073563  0.002824\n",
      "2    primary   97    82   15    0.138280   0.087719  0.455138  0.023012\n",
      "IV score: 0.05\n",
      "\n",
      "\n",
      "WoE and IV for column: default\n",
      "   Value  All  Good  Bad  Distr_Good  Distr_Bad       WoE            IV\n",
      "0      0  759   589  170    0.993255   0.994152 -0.000903  8.104467e-07\n",
      "1      1    5     4    1    0.006745   0.005848  0.142764  1.281173e-04\n",
      "IV score: 0.00\n",
      "\n",
      "\n",
      "WoE and IV for column: balance\n"
     ]
    },
    {
     "name": "stderr",
     "output_type": "stream",
     "text": [
      "C:\\Users\\Khanyi\\anaconda3\\lib\\site-packages\\pandas\\core\\arraylike.py:364: RuntimeWarning: divide by zero encountered in log\n",
      "  result = getattr(ufunc, method)(*inputs, **kwargs)\n"
     ]
    },
    {
     "name": "stdout",
     "output_type": "stream",
     "text": [
      "     Value  All  Good  Bad  Distr_Good  Distr_Bad       WoE        IV\n",
      "166    994    2     1    1    0.001686   0.005848 -1.243531  0.005175\n",
      "27     273    2     1    1    0.001686   0.005848 -1.243531  0.005175\n",
      "29     462    2     1    1    0.001686   0.005848 -1.243531  0.005175\n",
      "142    976    2     1    1    0.001686   0.005848 -1.243531  0.005175\n",
      "351    724    2     1    1    0.001686   0.005848 -1.243531  0.005175\n",
      "..     ...  ...   ...  ...         ...        ...       ...       ...\n",
      "214    142    2     2    0    0.003373   0.000000  0.000000  0.000000\n",
      "215    710    1     0    1    0.000000   0.005848  0.000000 -0.000000\n",
      "216   1499    1     1    0    0.001686   0.000000  0.000000  0.000000\n",
      "236    286    1     1    0    0.001686   0.000000  0.000000  0.000000\n",
      "605   1136    1     1    0    0.001686   0.000000  0.000000  0.000000\n",
      "\n",
      "[606 rows x 8 columns]\n",
      "IV score: 0.14\n",
      "\n",
      "\n",
      "WoE and IV for column: housing\n",
      "   Value  All  Good  Bad  Distr_Good  Distr_Bad       WoE        IV\n",
      "1      0  275   176   99    0.296796   0.578947 -0.668167  0.188524\n",
      "0      1  489   417   72    0.703204   0.421053  0.512889  0.144712\n",
      "IV score: 0.33\n",
      "\n",
      "\n",
      "WoE and IV for column: loan\n",
      "   Value  All  Good  Bad  Distr_Good  Distr_Bad       WoE        IV\n",
      "1      0  672   513  159    0.865093   0.929825 -0.072159  0.004671\n",
      "0      1   92    80   12    0.134907   0.070175  0.653589  0.042308\n",
      "IV score: 0.05\n",
      "\n",
      "\n",
      "WoE and IV for column: contact\n",
      "       Value  All  Good  Bad  Distr_Good  Distr_Bad       WoE            IV\n",
      "1  telephone   67    52   15     0.08769   0.087719 -0.000337  9.979735e-09\n",
      "0   cellular  697   541  156     0.91231   0.912281  0.000032  9.594125e-10\n",
      "IV score: 0.00\n",
      "\n",
      "\n",
      "WoE and IV for column: day\n",
      "    Value  All  Good  Bad  Distr_Good  Distr_Bad       WoE            IV\n",
      "26     10   10     2    8    0.003373   0.046784 -2.629825  1.141632e-01\n",
      "16      1    5     2    3    0.003373   0.017544 -1.648996  2.336822e-02\n",
      "28     22   12     5    7    0.008432   0.040936 -1.580003  5.135637e-02\n",
      "30     31    2     1    1    0.001686   0.005848 -1.243531  5.175094e-03\n",
      "2      23   10     5    5    0.008432   0.029240 -1.243531  2.587547e-02\n",
      "24      9   11     6    5    0.010118   0.029240 -1.061209  2.029215e-02\n",
      "20     28   18    10    8    0.016863   0.046784 -1.020387  3.053021e-02\n",
      "29     25    5     3    2    0.005059   0.011696 -0.838066  5.562145e-03\n",
      "23     27   14     9    5    0.015177   0.029240 -0.655744  9.221534e-03\n",
      "13     12   34    22   12    0.037099   0.070175 -0.637395  2.108244e-02\n",
      "10     15   40    28   12    0.047218   0.070175 -0.396233  9.096677e-03\n",
      "1      16   27    19    8    0.032040   0.046784 -0.378533  5.580776e-03\n",
      "14     30   27    19    8    0.032040   0.046784 -0.378533  5.580776e-03\n",
      "17      4   35    26    9    0.043845   0.052632 -0.182659  1.604973e-03\n",
      "19     26   12     9    3    0.015177   0.017544 -0.144919  3.429923e-04\n",
      "15      5   32    24    8    0.040472   0.046784 -0.144919  9.146463e-04\n",
      "22     18   49    38   11    0.064081   0.064327 -0.003840  9.467066e-07\n",
      "0      11   37    29    8    0.048904   0.046784  0.044323  9.397691e-05\n",
      "25     21   19    15    4    0.025295   0.023392  0.078225  1.488854e-04\n",
      "9       2   22    18    4    0.030354   0.023392  0.260547  1.814008e-03\n",
      "12     19   28    23    5    0.038786   0.029240  0.282525  2.697007e-03\n",
      "18     13   36    30    6    0.050590   0.035088  0.365907  5.672474e-03\n",
      "27     24    6     5    1    0.008432   0.005848  0.365907  9.454124e-04\n",
      "3      14   46    40    6    0.067454   0.035088  0.653589  2.115400e-02\n",
      "11      8   25    22    3    0.037099   0.017544  0.748899  1.464520e-02\n",
      "21      3   17    15    2    0.025295   0.011696  0.771372  1.049005e-02\n",
      "5      29   27    24    3    0.040472   0.017544  0.835911  1.916602e-02\n",
      "7       7   37    33    4    0.055649   0.023392  0.866682  2.795694e-02\n",
      "6      20   39    35    4    0.059022   0.023392  0.925523  3.297648e-02\n",
      "4      17   39    36    3    0.060708   0.017544  1.241376  5.358325e-02\n",
      "8       6   43    40    3    0.067454   0.017544  1.346736  6.721529e-02\n",
      "IV score: 0.59\n",
      "\n",
      "\n",
      "WoE and IV for column: month\n",
      "   Value  All  Good  Bad  Distr_Good  Distr_Bad       WoE        IV\n",
      "10   dec   12     5    7    0.008432   0.040936 -1.580003  0.051356\n",
      "8    aug   46    22   24    0.037099   0.140351 -1.330542  0.137380\n",
      "5    jun   25    12   13    0.020236   0.076023 -1.323574  0.073839\n",
      "7    oct   29    14   15    0.023609   0.087719 -1.312524  0.084147\n",
      "9    sep   21    11   10    0.018550   0.058480 -1.148221  0.045848\n",
      "11   mar   14     8    6    0.013491   0.035088 -0.955849  0.020643\n",
      "4    jul   23    15    8    0.025295   0.046784 -0.614922  0.013214\n",
      "2    feb   73    59   14    0.099494   0.081871  0.194949  0.003436\n",
      "1    apr  111    91   20    0.153457   0.116959  0.271596  0.009913\n",
      "6    nov  102    86   16    0.145025   0.093567  0.438228  0.022550\n",
      "3    jan   55    47    8    0.079258   0.046784  0.527175  0.017120\n",
      "0    may  253   223   30    0.376054   0.175439  0.762444  0.152958\n",
      "IV score: 0.63\n",
      "\n",
      "\n",
      "WoE and IV for column: duration\n"
     ]
    },
    {
     "name": "stderr",
     "output_type": "stream",
     "text": [
      "C:\\Users\\Khanyi\\anaconda3\\lib\\site-packages\\pandas\\core\\arraylike.py:364: RuntimeWarning: divide by zero encountered in log\n",
      "  result = getattr(ufunc, method)(*inputs, **kwargs)\n"
     ]
    },
    {
     "name": "stdout",
     "output_type": "stream",
     "text": [
      "     Value  All  Good  Bad  Distr_Good  Distr_Bad       WoE        IV\n",
      "95     250    4     1    3    0.001686   0.017544 -2.342143  0.037141\n",
      "77     262    3     1    2    0.001686   0.011696 -1.936678  0.019385\n",
      "349    267    3     1    2    0.001686   0.011696 -1.936678  0.019385\n",
      "131    293    3     1    2    0.001686   0.011696 -1.936678  0.019385\n",
      "166    330    3     1    2    0.001686   0.011696 -1.936678  0.019385\n",
      "..     ...  ...   ...  ...         ...        ...       ...       ...\n",
      "240    130    5     4    1    0.006745   0.005848  0.142764  0.000128\n",
      "52     199    5     4    1    0.006745   0.005848  0.142764  0.000128\n",
      "61     164    5     4    1    0.006745   0.005848  0.142764  0.000128\n",
      "119    239    5     4    1    0.006745   0.005848  0.142764  0.000128\n",
      "91     159    7     6    1    0.010118   0.005848  0.548229  0.002341\n",
      "\n",
      "[430 rows x 8 columns]\n",
      "IV score: 0.39\n",
      "\n",
      "\n",
      "WoE and IV for column: campaign\n",
      "    Value  All  Good  Bad  Distr_Good  Distr_Bad       WoE        IV\n",
      "9       9    3     2    1    0.003373   0.005848 -0.550384  0.001362\n",
      "2       3   80    59   21    0.099494   0.122807 -0.210516  0.004908\n",
      "0       1  388   292   96    0.492411   0.561404 -0.131125  0.009047\n",
      "8      11    2     2    0    0.003373   0.000000  0.000000  0.000000\n",
      "10     10    1     1    0    0.001686   0.000000  0.000000  0.000000\n",
      "4       4   35    28    7    0.047218   0.040936  0.142764  0.000897\n",
      "1       2  201   163   38    0.274874   0.222222  0.212633  0.011195\n",
      "5       7   11     9    2    0.015177   0.011696  0.260547  0.000907\n",
      "3       6   18    15    3    0.025295   0.017544  0.365907  0.002836\n",
      "7       8    6     5    1    0.008432   0.005848  0.365907  0.000945\n",
      "6       5   19    17    2    0.028668   0.011696  0.896535  0.015216\n",
      "IV score: 0.05\n",
      "\n",
      "\n",
      "WoE and IV for column: pdays\n",
      "     Value  All  Good  Bad  Distr_Good  Distr_Bad       WoE        IV\n",
      "76      92   10     1    9    0.001686   0.052632 -3.440755  0.175290\n",
      "154     95    4     1    3    0.001686   0.017544 -2.342143  0.037141\n",
      "31     181   10     3    7    0.005059   0.040936 -2.090829  0.075012\n",
      "101    140    3     1    2    0.001686   0.011696 -1.936678  0.019385\n",
      "220    192    3     1    2    0.001686   0.011696 -1.936678  0.019385\n",
      "..     ...  ...   ...  ...         ...        ...       ...       ...\n",
      "19     266    6     5    1    0.008432   0.005848  0.365907  0.000945\n",
      "21     345    6     5    1    0.008432   0.005848  0.365907  0.000945\n",
      "6      342    6     5    1    0.008432   0.005848  0.365907  0.000945\n",
      "58     364    9     8    1    0.013491   0.005848  0.835911  0.006389\n",
      "77     370    9     8    1    0.013491   0.005848  0.835911  0.006389\n",
      "\n",
      "[280 rows x 8 columns]\n",
      "IV score: 0.70\n",
      "\n",
      "\n",
      "WoE and IV for column: previous\n",
      "    Value  All  Good  Bad  Distr_Good  Distr_Bad       WoE        IV\n",
      "8      10    4     2    2    0.003373   0.011696 -1.243531  0.010350\n",
      "7       6   23    15    8    0.025295   0.046784 -0.614922  0.013214\n",
      "0       4   75    50   25    0.084317   0.146199 -0.550384  0.034059\n",
      "9       9   10     7    3    0.011804   0.017544 -0.396233  0.002274\n",
      "4       5   46    33   13    0.055649   0.076023 -0.311973  0.006356\n",
      "3       2  174   128   46    0.215852   0.269006 -0.220142  0.011701\n",
      "13     12    4     3    1    0.005059   0.005848 -0.144919  0.000114\n",
      "19     22    1     1    0    0.001686   0.000000  0.000000  0.000000\n",
      "18     17    1     1    0    0.001686   0.000000  0.000000  0.000000\n",
      "17     24    1     1    0    0.001686   0.000000  0.000000  0.000000\n",
      "16     15    1     1    0    0.001686   0.000000  0.000000  0.000000\n",
      "15     14    2     0    2    0.000000   0.011696  0.000000 -0.000000\n",
      "14     11    3     3    0    0.005059   0.000000  0.000000  0.000000\n",
      "21     25    1     1    0    0.001686   0.000000  0.000000  0.000000\n",
      "11     18    1     1    0    0.001686   0.000000  0.000000  0.000000\n",
      "20     23    1     1    0    0.001686   0.000000  0.000000  0.000000\n",
      "5      20    1     1    0    0.001686   0.000000  0.000000  0.000000\n",
      "12     19    1     1    0    0.001686   0.000000  0.000000  0.000000\n",
      "2       3  105    84   21    0.141653   0.122807  0.142764  0.002690\n",
      "10      8   17    14    3    0.023609   0.017544  0.296914  0.001801\n",
      "1       1  271   227   44    0.382799   0.257310  0.397230  0.049848\n",
      "6       7   21    18    3    0.030354   0.017544  0.548229  0.007023\n",
      "IV score: 0.14\n",
      "\n",
      "\n",
      "WoE and IV for column: poutcome\n",
      "     Value  All  Good  Bad  Distr_Good  Distr_Bad       WoE        IV\n",
      "2  success  115    40   75    0.067454   0.438596 -1.872140  0.694831\n",
      "1    other  183   148   35    0.249578   0.204678  0.198333  0.008905\n",
      "0  failure  466   405   61    0.682968   0.356725  0.649482  0.211889\n",
      "IV score: 0.92\n",
      "\n",
      "\n"
     ]
    },
    {
     "name": "stderr",
     "output_type": "stream",
     "text": [
      "C:\\Users\\Khanyi\\anaconda3\\lib\\site-packages\\pandas\\core\\arraylike.py:364: RuntimeWarning: divide by zero encountered in log\n",
      "  result = getattr(ufunc, method)(*inputs, **kwargs)\n",
      "C:\\Users\\Khanyi\\anaconda3\\lib\\site-packages\\pandas\\core\\arraylike.py:364: RuntimeWarning: divide by zero encountered in log\n",
      "  result = getattr(ufunc, method)(*inputs, **kwargs)\n"
     ]
    }
   ],
   "source": [
    "for col in Bank_data.columns:\n",
    "    if col == 'y': continue\n",
    "    else:\n",
    "        print('WoE and IV for column: {}'.format(col))\n",
    "        df, iv = calculate_woe_iv(Bank_data, col, 'y')\n",
    "        print(df)\n",
    "        print('IV score: {:.2f}'.format(iv))\n",
    "        print('\\n')"
   ]
  },
  {
   "cell_type": "code",
   "execution_count": 34,
   "id": "eba1ca03",
   "metadata": {},
   "outputs": [
    {
     "name": "stdout",
     "output_type": "stream",
     "text": [
      "variable      IV score\n",
      "----------  ----------\n",
      "age               0.34\n",
      "job               0.16\n",
      "balance           0.14\n",
      "housing           0.33\n",
      "duration          0.39\n",
      "previous          0.14\n"
     ]
    }
   ],
   "source": [
    "# Varibles which are useful for prediction\n",
    "from tabulate import tabulate\n",
    "print(tabulate([['age', 0.34], ['job', 0.16], ['balance', 0.14], ['housing', 0.33], ['duration', 0.39], ['previous', 0.14]], headers=['variable','IV score']))"
   ]
  },
  {
   "cell_type": "markdown",
   "id": "fa5c3eb3",
   "metadata": {},
   "source": [
    "From IV the predictive power of variables can be determined. IV < 0.02 is not useful for prediction, IV from 0.02 to 0.1 is weak predictive power, IV from 0.1 to 0.3 has medium predictive power, IV from 0.3-0.5 has good predictive power, IV> 0.5 is not considered relable for prediction."
   ]
  },
  {
   "cell_type": "code",
   "execution_count": null,
   "id": "e66d7e64",
   "metadata": {},
   "outputs": [],
   "source": []
  }
 ],
 "metadata": {
  "kernelspec": {
   "display_name": "Python 3 (ipykernel)",
   "language": "python",
   "name": "python3"
  },
  "language_info": {
   "codemirror_mode": {
    "name": "ipython",
    "version": 3
   },
   "file_extension": ".py",
   "mimetype": "text/x-python",
   "name": "python",
   "nbconvert_exporter": "python",
   "pygments_lexer": "ipython3",
   "version": "3.9.7"
  }
 },
 "nbformat": 4,
 "nbformat_minor": 5
}
